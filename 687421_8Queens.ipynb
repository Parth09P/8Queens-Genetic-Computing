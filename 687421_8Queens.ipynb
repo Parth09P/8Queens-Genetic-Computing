{
 "cells": [
  {
   "cell_type": "code",
   "execution_count": 1,
   "metadata": {},
   "outputs": [],
   "source": [
    "from random import randint as rand\n",
    "\n",
    "class EightQueens:\n",
    "\n",
    "    def __init__(self):\n",
    "        self.size = 8\n",
    "        self.board = self.createBoard(self.size)\n",
    "        self.solutions = []        \n",
    "        self.env = []\n",
    "        self.final = None\n",
    "        self.finalState = -1\n",
    "\n",
    "    def createBoard(self,dimensions):\n",
    "        board = [[0 for i in range(dimensions)] for j in range(dimensions)]\n",
    "        return board\n",
    "\n",
    "    def setBoard(self,board,gen):\n",
    "        for i in range(self.size):\n",
    "            board[gen[i]][i] = 1\n",
    "\n",
    "    def initialPopulation(self):\n",
    "        for i in range(500):\n",
    "            from random import shuffle\n",
    "            DNA = list(range(self.size))\n",
    "            shuffle(DNA)\n",
    "            while DNA in self.env:\n",
    "                shuffle(DNA)\n",
    "            self.env.append(DNA)\n",
    "\n",
    "    def scoringFunction(self,gen):\n",
    "        maxFitness = (self.size*(self.size-1))/2\n",
    "        hits = 0\n",
    "        board = self.createBoard(self.size)\n",
    "        self.setBoard(board,gen)\n",
    "        col = 0\n",
    "        for dna in gen:\n",
    "            \n",
    "            for i,j in zip(range(dna-1,-1,-1),range(col-1,-1,-1)):               \n",
    "                if board[i][j] == 1:\n",
    "                    hits+=1\n",
    "            for i,j in zip(range(dna+1,self.size,1),range(col-1,-1,-1)):\n",
    "                if board[i][j] == 1:\n",
    "                    hits+=1\n",
    "            col+=1\n",
    "        return hits\n",
    "\n",
    "    def isFinalSequence(self,gen):\n",
    "        if self.scoringFunction(gen) == 0:\n",
    "            return True\n",
    "        return False\n",
    "\n",
    "    def crossOver(self,firstGen,secondGen):\n",
    "        for i in range(1,len(firstGen)):\n",
    "            if abs(firstGen[i-1] - firstGen[i])<2:\n",
    "                firstGen[i],secondGen[i] = secondGen[i],firstGen[i]\n",
    "            if abs(secondGen[i-1] - secondGen[i])<2:\n",
    "                firstGen[i],secondGen[i] = secondGen[i],firstGen[i]\n",
    "\n",
    "\n",
    "    def mutate(self,gen):\n",
    "        \n",
    "        newGen = []\n",
    "        for dna in gen:\n",
    "            if dna not in newGen:\n",
    "                 newGen.append(dna)\n",
    "        for i in range(self.size):\n",
    "            if i not in newGen:\n",
    "                newGen.append(i)\n",
    "        gen = newGen\n",
    "        return gen\n",
    "\n",
    "    def crossMutate(self):\n",
    "        for i in range(1,len(self.env),2):\n",
    "            firstGen = self.env[i-1][:]\n",
    "            secondGen = self.env[i][:]\n",
    "            self.crossOver(firstGen,secondGen)\n",
    "            firstGen = self.mutate(firstGen)\n",
    "            secondGen = self.mutate(secondGen)\n",
    "            self.env.append(firstGen)\n",
    "            self.env.append(secondGen)\n",
    "\n",
    "    def selectBestGen(self):\n",
    "        genUtilities = []\n",
    "        newEnv = []\n",
    "\n",
    "        for gen in self.env:\n",
    "            genUtilities.append(self.scoringFunction(gen))\n",
    "        if min(genUtilities) == 0:\n",
    "            self.finalState = genUtilities.index(min(genUtilities))\n",
    "            self.final = self.env[self.finalState]\n",
    "            return self.env\n",
    "\n",
    "    def queensMain(self):        \n",
    "        self.initialPopulation()\n",
    "        self.crossMutate()\n",
    "        self.env = self.selectBestGen()\n",
    "        \n",
    "        for gen in self.env:\n",
    "            if self.isFinalSequence(gen):\n",
    "                return gen\n",
    "\n",
    "\n"
   ]
  },
  {
   "cell_type": "code",
   "execution_count": 2,
   "metadata": {},
   "outputs": [],
   "source": [
    "from time import time\n",
    "\n",
    "def main():\n",
    "    \n",
    "    queen = EightQueens()\n",
    "    board = queen.createBoard(queen.size)\n",
    "    \n",
    "    \n",
    "    start_time = time()\n",
    "    finalSequence = queen.queensMain()\n",
    "    end_time = time()\n",
    "    print(\"Time taken : {} seconds\".format(end_time - start_time))\n",
    "    \n",
    "    print(\"Final Sequence\" , finalSequence)\n",
    "    queen.setBoard(board,finalSequence)\n",
    "    print(\"\\nBoard:\")\n",
    "    for b in board:\n",
    "        print(b)\n",
    "    \n",
    "    return finalSequence"
   ]
  },
  {
   "cell_type": "code",
   "execution_count": 3,
   "metadata": {},
   "outputs": [
    {
     "name": "stdout",
     "output_type": "stream",
     "text": [
      "Time taken : 0.07198643684387207 seconds\n",
      "Final Sequence [6, 1, 3, 0, 7, 4, 2, 5]\n",
      "\n",
      "Board:\n",
      "[0, 0, 0, 1, 0, 0, 0, 0]\n",
      "[0, 1, 0, 0, 0, 0, 0, 0]\n",
      "[0, 0, 0, 0, 0, 0, 1, 0]\n",
      "[0, 0, 1, 0, 0, 0, 0, 0]\n",
      "[0, 0, 0, 0, 0, 1, 0, 0]\n",
      "[0, 0, 0, 0, 0, 0, 0, 1]\n",
      "[1, 0, 0, 0, 0, 0, 0, 0]\n",
      "[0, 0, 0, 0, 1, 0, 0, 0]\n"
     ]
    }
   ],
   "source": [
    "result = main()"
   ]
  },
  {
   "cell_type": "code",
   "execution_count": 4,
   "metadata": {},
   "outputs": [
    {
     "data": {
      "text/plain": [
       "[6, 1, 3, 0, 7, 4, 2, 5]"
      ]
     },
     "execution_count": 4,
     "metadata": {},
     "output_type": "execute_result"
    }
   ],
   "source": [
    "result"
   ]
  },
  {
   "cell_type": "code",
   "execution_count": null,
   "metadata": {},
   "outputs": [],
   "source": []
  },
  {
   "cell_type": "code",
   "execution_count": null,
   "metadata": {},
   "outputs": [],
   "source": []
  }
 ],
 "metadata": {
  "kernelspec": {
   "display_name": "Python 3",
   "language": "python",
   "name": "python3"
  },
  "language_info": {
   "codemirror_mode": {
    "name": "ipython",
    "version": 3
   },
   "file_extension": ".py",
   "mimetype": "text/x-python",
   "name": "python",
   "nbconvert_exporter": "python",
   "pygments_lexer": "ipython3",
   "version": "3.6.8"
  }
 },
 "nbformat": 4,
 "nbformat_minor": 2
}
